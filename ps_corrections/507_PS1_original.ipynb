{
 "cells": [
  {
   "cell_type": "markdown",
   "id": "823122b5",
   "metadata": {},
   "source": [
    "# STATS 507 PS 1\n",
    "Tianyu Jiang"
   ]
  },
  {
   "cell_type": "markdown",
   "id": "757fd7d6",
   "metadata": {},
   "source": [
    "### GSI's comment\n",
    "__Q0: -3 for don't provide both raw and formatted versions__\n",
    "\n",
    "Fix: Added the raw version below"
   ]
  },
  {
   "cell_type": "code",
   "execution_count": 1,
   "id": "4286e824",
   "metadata": {},
   "outputs": [],
   "source": [
    "import numpy as np\n",
    "import pandas as pd\n",
    "from collections import defaultdict\n",
    "from timeit import Timer"
   ]
  },
  {
   "cell_type": "markdown",
   "id": "6c9062e3",
   "metadata": {},
   "source": [
    "## Question 0 - Markdown warmup"
   ]
  },
  {
   "cell_type": "markdown",
   "id": "fde9b68c",
   "metadata": {},
   "source": [
    "This is *question 0* for __[problem set 1](https://jbhender.github.io/Stats507/F21/ps/ps1.html)__ of __[Stats 507](https://jbhender.github.io/Stats507/F21/)__.\n",
    "\n",
    "> Question 0 is about Markdown.\n",
    "\n",
    "The next question is about the **Fibonnaci sequence**, $F_{n}=F_{n−2}+F_{n−1}$. In part **a** we will define a Python function ```fib_rec()```.\n",
    "\n",
    "Below is a …\n",
    "\n",
    "### Level 3 Header\n",
    "\n",
    "Next, we can make a bulleted list:\n",
    "\n",
    "- Item 1\n",
    "    * detail 1\n",
    "    * detail 2\n",
    "- Item 2\n",
    "\n",
    "Finally, we can make an enumerated list:\n",
    "\n",
    "1. Item 1\n",
    "2. Item 2\n",
    "3. Item 3"
   ]
  },
  {
   "cell_type": "markdown",
   "id": "81e517d6",
   "metadata": {},
   "source": [
    "```This is *question 0* for __[problem set 1](https://jbhender.github.io/Stats507/F21/ps/ps1.html)__ of __[Stats 507](https://jbhender.github.io/Stats507/F21/)__.\n",
    "\n",
    "> Question 0 is about Markdown.\n",
    "\n",
    "The next question is about the **Fibonnaci sequence**, $F_{n}=F_{n−2}+F_{n−1}$. In part **a** we will define a Python function ```fib_rec()```.\n",
    "\n",
    "Below is a …\n",
    "\n",
    "### Level 3 Header\n",
    "\n",
    "Next, we can make a bulleted list:\n",
    "\n",
    "- Item 1\n",
    "    * detail 1\n",
    "    * detail 2\n",
    "- Item 2\n",
    "\n",
    "Finally, we can make an enumerated list:\n",
    "\n",
    "1. Item 1\n",
    "2. Item 2\n",
    "3. Item 3\n",
    "```"
   ]
  },
  {
   "cell_type": "markdown",
   "id": "0bdecb53",
   "metadata": {},
   "source": [
    "## Question 1 - Fibonnaci Sequence"
   ]
  },
  {
   "cell_type": "markdown",
   "id": "ea737152",
   "metadata": {},
   "source": [
    "Note: $F_{n}=F_{n−2}+F_{n−1}$\n",
    "\n",
    "a. Write a recursive function ```fib_rec()``` that takes a single input n and returns the value of $F_{n}$."
   ]
  },
  {
   "cell_type": "code",
   "execution_count": 2,
   "id": "2a6ac456",
   "metadata": {},
   "outputs": [
    {
     "name": "stdout",
     "output_type": "stream",
     "text": [
      "TEST fib_rec 0 1 1 2 3 5 8\n"
     ]
    }
   ],
   "source": [
    "def fib_rec(n):\n",
    "    \"\"\"\n",
    "    Computes the Fibonnaci Sequence item F_n recursively. \n",
    "\n",
    "    Parameters\n",
    "    ----------\n",
    "    n : INTEGER\n",
    "\n",
    "    Returns\n",
    "    -------\n",
    "    the value of F_n.\n",
    "\n",
    "    \"\"\"\n",
    "    # base case\n",
    "    if n == 0:\n",
    "        return 0\n",
    "    elif n == 1:\n",
    "        return 1\n",
    "    # recursive case\n",
    "    else:\n",
    "        return fib_rec(n-2) + fib_rec(n-1)\n",
    "\n",
    "# should be 0 1 1 2 3 5 8\n",
    "print(\"TEST fib_rec\", fib_rec(0), fib_rec(1), fib_rec(2),\n",
    "      fib_rec(3), fib_rec(4), fib_rec(5), fib_rec(6))"
   ]
  },
  {
   "cell_type": "markdown",
   "id": "a36154cb",
   "metadata": {},
   "source": [
    "b. Write a function ```fib_for()``` with the same signature that computes $F_{n}$ by summation using a for loop."
   ]
  },
  {
   "cell_type": "code",
   "execution_count": 3,
   "id": "4977830c",
   "metadata": {},
   "outputs": [
    {
     "name": "stdout",
     "output_type": "stream",
     "text": [
      "TEST fib_for 0 1 1 2 3 5 8\n"
     ]
    }
   ],
   "source": [
    "def fib_for(n):\n",
    "    \"\"\"\n",
    "    Computes the Fibonnaci Sequence item F_n using a for loop. \n",
    "\n",
    "    Parameters\n",
    "    ----------\n",
    "    n : INTEGER\n",
    "\n",
    "    Returns\n",
    "    -------\n",
    "    the value of F_n.\n",
    "\n",
    "    \"\"\"\n",
    "    if n == 0:\n",
    "        return 0\n",
    "    elif n == 1:\n",
    "        return 1\n",
    "    else:\n",
    "        f_min2 = 0\n",
    "        f_min1 = 1\n",
    "        for _ in range(1, n):\n",
    "            f_n = f_min2 + f_min1\n",
    "            f_min2 = f_min1\n",
    "            f_min1 = f_n\n",
    "        return f_n\n",
    "\n",
    "# should be 0 1 1 2 3 5 8\n",
    "print(\"TEST fib_for\", fib_for(0), fib_for(1), fib_for(2),\n",
    "      fib_for(3), fib_for(4), fib_for(5), fib_for(6))"
   ]
  },
  {
   "cell_type": "markdown",
   "id": "22ee404a",
   "metadata": {},
   "source": [
    "c. Write a function ```fib_whl()``` with the same signature that computes $F_{n}$ by summation using a while loop."
   ]
  },
  {
   "cell_type": "code",
   "execution_count": 4,
   "id": "a91e577d",
   "metadata": {},
   "outputs": [
    {
     "name": "stdout",
     "output_type": "stream",
     "text": [
      "TEST fib_whl 0 1 1 2 3 5 8\n"
     ]
    }
   ],
   "source": [
    "def fib_whl(n):\n",
    "    \"\"\"\n",
    "    Computes the Fibonnaci Sequence item F_n using a while loop. \n",
    "\n",
    "    Parameters\n",
    "    ----------\n",
    "    n : INTEGER\n",
    "\n",
    "    Returns\n",
    "    -------\n",
    "    the value of F_n.\n",
    "\n",
    "    \"\"\"\n",
    "    if n == 0:\n",
    "        return 0\n",
    "    elif n == 1:\n",
    "        return 1\n",
    "    else:\n",
    "        f_min2 = 0\n",
    "        f_min1 = 1\n",
    "        ct = 0\n",
    "        while (ct < n-1):\n",
    "            f_n = f_min2 + f_min1\n",
    "            f_min2 = f_min1\n",
    "            f_min1 = f_n\n",
    "            ct += 1\n",
    "    return f_n\n",
    "\n",
    "# should be 0 1 1 2 3 5 8\n",
    "print(\"TEST fib_whl\", fib_whl(0), fib_whl(1), fib_whl(2),\n",
    "      fib_whl(3), fib_whl(4), fib_whl(5), fib_whl(6))"
   ]
  },
  {
   "cell_type": "markdown",
   "id": "13ca77d2",
   "metadata": {},
   "source": [
    "d. Write a function ```fib_rnd()``` with the same signature that computes $F_{n}$ using the rounding method.\n",
    "[Link](https://en.wikipedia.org/wiki/Fibonacci_number#Computation_by_rounding)"
   ]
  },
  {
   "cell_type": "code",
   "execution_count": 5,
   "id": "8c4cea70",
   "metadata": {},
   "outputs": [
    {
     "name": "stdout",
     "output_type": "stream",
     "text": [
      "TEST fib_rnd 0 1 1 2 3 5 8\n"
     ]
    }
   ],
   "source": [
    "def fib_rnd(n):\n",
    "    \"\"\"\n",
    "    Computes the Fibonnaci Sequence item F_n using the rounding method. \n",
    "\n",
    "    Parameters\n",
    "    ----------\n",
    "    n : INTEGER\n",
    "\n",
    "    Returns\n",
    "    -------\n",
    "    the value of F_n.\n",
    "\n",
    "    \"\"\"\n",
    "    phi = (1 + np.sqrt(5))/2.0\n",
    "    f_n = round(phi**n / np.sqrt(5))\n",
    "    return f_n\n",
    "\n",
    "# should be 0 1 1 2 3 5 8\n",
    "print(\"TEST fib_rnd\", fib_rnd(0), fib_rnd(1), fib_rnd(2),\n",
    "      fib_rnd(3), fib_rnd(4), fib_rnd(5), fib_rnd(6))"
   ]
  },
  {
   "cell_type": "markdown",
   "id": "72886d77",
   "metadata": {},
   "source": [
    "e. Write a function ```fib_flr()``` with the same signature that\n",
    "computes $F_{n}$ using the truncation method described on the Wikipedia page linked above."
   ]
  },
  {
   "cell_type": "code",
   "execution_count": 6,
   "id": "8c4dbba2",
   "metadata": {},
   "outputs": [
    {
     "name": "stdout",
     "output_type": "stream",
     "text": [
      "TEST fib_flr 0 1 1 2 3 5 8\n"
     ]
    }
   ],
   "source": [
    "def fib_flr(n):\n",
    "    \"\"\"\n",
    "    Computes the Fibonnaci Sequence item F_n using the truncation method. \n",
    "\n",
    "    Parameters\n",
    "    ----------\n",
    "    n : INTEGER\n",
    "\n",
    "    Returns\n",
    "    -------\n",
    "    the value of F_n.\n",
    "\n",
    "    \"\"\"\n",
    "    phi = (1 + np.sqrt(5))/2.0\n",
    "    f_n = np.floor(phi**n / np.sqrt(5) + 0.5)\n",
    "    return round(f_n)\n",
    "\n",
    "# should be 0 1 1 2 3 5 8\n",
    "print(\"TEST fib_flr\", fib_flr(0), fib_flr(1), fib_flr(2),\n",
    "      fib_flr(3), fib_flr(4), fib_flr(5), fib_flr(6))"
   ]
  },
  {
   "cell_type": "markdown",
   "id": "66fe462c",
   "metadata": {},
   "source": [
    "f. For a sequence of increasingly large values of ```n``` compare the median computation time of each of the functions above. Present your results in a nicely formatted table. (Point estimates are sufficient)."
   ]
  },
  {
   "cell_type": "code",
   "execution_count": 7,
   "id": "e146cc3a",
   "metadata": {},
   "outputs": [
    {
     "name": "stdout",
     "output_type": "stream",
     "text": [
      "min, ms\n",
      "Function   fib_flr   fib_for     fib_rec   fib_rnd   fib_whl\n",
      "n                                                           \n",
      "5         0.004719  0.000701    0.003155  0.003464  0.000621\n",
      "10        0.004805  0.000821    0.033734  0.003462  0.001022\n",
      "15        0.004708  0.001011    0.318882  0.003515  0.001498\n",
      "20        0.004719  0.001282    2.548917  0.003523  0.002002\n",
      "25        0.004785  0.001530   27.160074  0.003498  0.002472\n",
      "30        0.004758  0.001808  283.503540  0.003516  0.002966\n",
      "median, ms\n",
      "Function   fib_flr   fib_for     fib_rec   fib_rnd   fib_whl\n",
      "n                                                           \n",
      "5         0.004849  0.000996    0.003704  0.003531  0.000629\n",
      "10        0.004870  0.000865    0.035686  0.003529  0.001045\n",
      "15        0.004819  0.001081    0.448687  0.003578  0.001511\n",
      "20        0.004821  0.001343    3.257444  0.003545  0.002047\n",
      "25        0.004851  0.001597   30.926551  0.003562  0.002511\n",
      "30        0.004833  0.001870  315.940790  0.003568  0.002999\n",
      "mean, ms\n",
      "Function   fib_flr   fib_for     fib_rec   fib_rnd   fib_whl\n",
      "n                                                           \n",
      "5         0.005683  0.001086    0.003890  0.004752  0.000783\n",
      "10        0.005466  0.000971    0.035840  0.004077  0.001152\n",
      "15        0.005467  0.001191    0.521656  0.004070  0.001661\n",
      "20        0.005495  0.001470    3.803892  0.004069  0.002176\n",
      "25        0.005472  0.001697   31.078256  0.004011  0.002603\n",
      "30        0.005403  0.001967  309.106001  0.004079  0.003120\n"
     ]
    }
   ],
   "source": [
    "# List input\n",
    "n_list = [*range(5, 35, 5)]\n",
    "# Defining the dict\n",
    "time = defaultdict(list)\n",
    "\n",
    "for f in [fib_rec, fib_for, fib_whl, fib_rnd, fib_flr]:\n",
    "    for n in n_list:\n",
    "        t = Timer('f(n)', globals={'f': f, 'n': n})\n",
    "        tm = t.repeat(repeat=10, number=1)\n",
    "        time[\"n\"].append(n)\n",
    "        time[\"Function\"].append(f.__name__)\n",
    "        time[\"min, ms\"].append(np.min(tm) * 1000)\n",
    "        time[\"median, ms\"].append(np.median(tm) * 1000)\n",
    "        time[\"mean, ms\"].append(np.mean(tm) * 1000)\n",
    "\n",
    "# Print dictionary\n",
    "time_table = pd.DataFrame(time)\n",
    "\n",
    "# pd.DataFrame.pivot: Returns reshaped DataFrame\n",
    "# organized by given index / column values\n",
    "print(\"min, ms\")\n",
    "print(time_table.pivot(index=\"n\", columns=\"Function\", values=\"min, ms\"))\n",
    "print(\"median, ms\")\n",
    "print(time_table.pivot(index=\"n\", columns=\"Function\", values=\"median, ms\"))\n",
    "print(\"mean, ms\")\n",
    "print(time_table.pivot(index=\"n\", columns=\"Function\", values=\"mean, ms\"))"
   ]
  },
  {
   "cell_type": "markdown",
   "id": "e2b8b485",
   "metadata": {},
   "source": [
    "## Question 2 - Pascal’s Triangle"
   ]
  },
  {
   "cell_type": "markdown",
   "id": "49ef5a82",
   "metadata": {},
   "source": [
    "a. Write a function to compute a specified row of Pascal’s triangle."
   ]
  },
  {
   "cell_type": "code",
   "execution_count": 8,
   "id": "e008652e",
   "metadata": {},
   "outputs": [
    {
     "name": "stdout",
     "output_type": "stream",
     "text": [
      "TEST pasc_row [1] [1, 1] [1, 2, 1] [1, 5, 10, 10, 5, 1]\n"
     ]
    }
   ],
   "source": [
    "def pasc_row(n):\n",
    "    \"\"\"\n",
    "    Computes a specified row of Pascal’s triangle. \n",
    "\n",
    "    Parameters\n",
    "    ----------\n",
    "    n : INTEGER\n",
    "    indecates which row to compute.\n",
    "\n",
    "    Returns\n",
    "    -------\n",
    "    the content of that row.\n",
    "\n",
    "    \"\"\"\n",
    "    pasc_r = []\n",
    "    # 1st element of every row is 1\n",
    "    pasc_r.append(1)\n",
    "     \n",
    "    # If is first row\n",
    "    if (n == 0) :\n",
    "        return pasc_r\n",
    "\n",
    "    # Generate the previous row\n",
    "    prev = pasc_row(n - 1)\n",
    "\n",
    "    for i in range(1, len(prev)):\n",
    "        # Generate the elements of the current row\n",
    "        curr = prev[i - 1] + prev[i]\n",
    "        pasc_r.append(curr)\n",
    " \n",
    "    pasc_r.append(1)\n",
    "\n",
    "    return pasc_r\n",
    "\n",
    "print(\"TEST pasc_row\", pasc_row(0), pasc_row(1), pasc_row(2), pasc_row(5))"
   ]
  },
  {
   "cell_type": "markdown",
   "id": "be16cc5f",
   "metadata": {},
   "source": [
    "b. Write a function for printing the first n rows of Pascal’s triangle using the conventional spacing with the numbers in each row staggered relative to adjacent rows. Use your function to display a minimum of 10 rows in your notebook."
   ]
  },
  {
   "cell_type": "code",
   "execution_count": 9,
   "id": "0e8cb5c9",
   "metadata": {},
   "outputs": [
    {
     "name": "stdout",
     "output_type": "stream",
     "text": [
      "The first 11 rows of Pascal’s triangle\n",
      "\n",
      "row # 0 :                           1                           \n",
      "row # 1 :                          1  1                         \n",
      "row # 2 :                        1  2  1                        \n",
      "row # 3 :                       1  3  3  1                      \n",
      "row # 4 :                     1  4  6  4  1                     \n",
      "row # 5 :                   1  5  10  10  5  1                  \n",
      "row # 6 :                 1  6  15  20  15  6  1                \n",
      "row # 7 :               1  7  21  35  35  21  7  1              \n",
      "row # 8 :             1  8  28  56  70  56  28  8  1            \n",
      "row # 9 :          1  9  36  84  126  126  84  36  9  1         \n",
      "row # 10 :     1  10  45  120  210  252  210  120  45  10  1     "
     ]
    }
   ],
   "source": [
    "def pasc_printer(n):\n",
    "    \"\"\"\n",
    "    Prints the first n rows of Pascal’s triangle\n",
    "    using the conventional spacing\n",
    "    with the numbers in each row\n",
    "    staggered relative to adjacent rows. \n",
    "\n",
    "    Parameters\n",
    "    ----------\n",
    "    n : INTEGER\n",
    "    indecates the number of rows to print.\n",
    "\n",
    "    Returns\n",
    "    -------\n",
    "    nothing.\n",
    "\n",
    "    \"\"\"\n",
    "    for i in range(n):\n",
    "        print (\"\\nrow #\", i, \":\", end = '   ')\n",
    "        tmp_lst = pasc_row(i)\n",
    "        tmp_str_lst = [str(x) for x in tmp_lst]\n",
    "        joined_str = '  '.join([str(v) for v in tmp_str_lst])\n",
    "        print (joined_str.center(50), end = '  ')\n",
    "    return\n",
    "\n",
    "print(\"The first 11 rows of Pascal’s triangle\")\n",
    "pasc_printer(11)"
   ]
  },
  {
   "cell_type": "markdown",
   "id": "000471f8",
   "metadata": {},
   "source": [
    "## Question 3 - Statistics 101"
   ]
  },
  {
   "cell_type": "markdown",
   "id": "48d3ae58",
   "metadata": {},
   "source": [
    "Write functions to compute statistics providing point and interval estimates for common population parameters based on data. Parts a and below each ask you to write a function; each of those functions should default to returning a string of the form,\n",
    "\n",
    "$$\\hat{\\theta}[XX\\%CI:(\\hat{\\theta}_L,\\hat{\\theta}_U)]$$\n",
    "\n",
    "where $\\hat{\\theta}$ is the point estimate, $(\\hat{\\theta}_L,\\hat{\\theta}_U)$ is a an $XX\\%$ confidence interval, and the confidence level $XX$ is configurable using an input parameter.\n",
    "\n",
    "The format of this string should also be configurable using an input parameter. Define the function to return a dictionary with keys ```est```, ```lwr```, ```upr```, and ```level``` when the function is called with the parameter controlling the format of the input string set to ```None```.\n",
    "\n",
    "Your functions should accept the data as a 1d Numpy array or any object coercable to such an array using ```np.array()``` and raise an informative exception if not.\n",
    "\n",
    "In this question you may use any function from Numpy, but may only use Scipy for the distribution functions found in the ```stats``` library. Your functions should not rely on any other modules.\n",
    "\n",
    "a. The standard point and interval estimate for the populaiton mean based on Normal theory takes the form $\\overline{x}±z×se(x)$ where $\\overline{x}$ is the mean, $se(x)$ is the standard error, and $z$ is a Gaussian multiplier that depends on the desired confidence level. Write a function to return a point and interval estimate for the mean based on these statistics."
   ]
  },
  {
   "cell_type": "code",
   "execution_count": 10,
   "id": "87a0f4e7",
   "metadata": {},
   "outputs": [],
   "source": [
    "import scipy.stats as st\n",
    "\n",
    "def arr_dim_checker(arr):\n",
    "    \"\"\"\n",
    "    Checks if input type is indeed an 1D np array.\n",
    "\n",
    "    Parameters\n",
    "    ----------\n",
    "    arr : 1D NUMPY ARRAY\n",
    "\n",
    "    Returns\n",
    "    -------\n",
    "    Nothing.\n",
    "\n",
    "    \"\"\"\n",
    "    if isinstance(arr, np.ndarray) == False or arr.ndim != 1:\n",
    "        raise TypeError(\"Require 1d Numpy array!\")\n",
    "\n",
    "def output_helper(format_par, est, level, lwr, upr):\n",
    "    \"\"\"\n",
    "    Returns in the expected format based on format_par.\n",
    "    Helper function.\n",
    "\n",
    "    Parameters\n",
    "    ----------\n",
    "    format_par : BOOL\n",
    "    controls output.\n",
    "    est : FLOAT\n",
    "    point estimate.\n",
    "    level : FLOAT\n",
    "    the confidence level.\n",
    "    lwr, upr : FLOAT\n",
    "\n",
    "    Returns\n",
    "    -------\n",
    "    A point and interval estimate for the mean.\n",
    "    Formatted as a dictionary when format_par=None.\n",
    "    Formatted ow when format_par is True.\n",
    "\n",
    "    \"\"\"\n",
    "    if format_par is True:\n",
    "        tmp = \"%CI: (\" + str(lwr) + \", \" + str(upr) + \")]\"\n",
    "        output_str = str(round(est, 4)) + \"[\" + str(level) + tmp\n",
    "        return output_str\n",
    "    elif format_par is None:\n",
    "        temp_dict = {\n",
    "            \"est\": round(est, 4),\n",
    "            \"lwr\": lwr,\n",
    "            \"upr\": upr,\n",
    "            \"level\": level\n",
    "        }\n",
    "        return temp_dict\n",
    "    else:\n",
    "        print (\"Error\")\n",
    "        return None"
   ]
  },
  {
   "cell_type": "code",
   "execution_count": 11,
   "id": "42204d39",
   "metadata": {},
   "outputs": [],
   "source": [
    "def pt_n_interval_est(arr, level, format_par=True):\n",
    "    \"\"\"\n",
    "    Constructs a point and interval estimate for the mean.\n",
    "\n",
    "    Parameters\n",
    "    ----------\n",
    "    arr : 1D NUMPY ARRAY\n",
    "    the dataset to analyzes.\n",
    "    level : FLOAT\n",
    "    the confidence level.\n",
    "    format_par : BOOL\n",
    "    controls output.\n",
    "\n",
    "    Returns\n",
    "    -------\n",
    "    A point and interval estimate for the mean.\n",
    "    Formatted as a dictionary when format_par=None.\n",
    "    Formatted ow when format_par is default (as True).\n",
    "\n",
    "    \"\"\"\n",
    "    # Check if 1d Numpy array\n",
    "    arr_dim_checker(arr)\n",
    "    \n",
    "    est = np.mean(arr)\n",
    "    \n",
    "    alpha = 1 - level/100.0\n",
    "    z_score = st.norm.ppf(1 - alpha * 0.5)\n",
    "\n",
    "    x_se = np.std(arr)\n",
    "    lwr = round(est - z_score * x_se, 4)\n",
    "    upr = round(est + z_score * x_se, 4)\n",
    "\n",
    "    return output_helper(format_par, est, level, lwr, upr)"
   ]
  },
  {
   "cell_type": "markdown",
   "id": "76f7afe5",
   "metadata": {},
   "source": [
    "b. There are a number of methods for computing a confidence interval for a population proportion arising from a Binomial experiment consisting of n independent and identically distributed (iid) Bernoulli trials. Let x be the number of successes in thes trials. In this question you will write a function to return point and interval estimates based on several of these methods. Your function should have a parameter ```method``` that controls the method used. Include functionality for each of the following methods.\n",
    "\n",
    "i. The standard point and interval estimates for a population parameter based on the Normal approximation to the Binomial distribution takes the form $p̂ ± z × \\sqrt{p̂ (1−p̂ )/n}$ with $p̂$ the sample proportion and $z$ as in part a. The approximation is conventionally considered adequate when $np̂ ∧n(1−p̂ )>12$. When this method is selected, your function should raise an informative warning if this condition is not satisfied."
   ]
  },
  {
   "cell_type": "code",
   "execution_count": 12,
   "id": "af1cc800",
   "metadata": {},
   "outputs": [],
   "source": [
    "def b_est(arr, level, ci_method, format_par=True):\n",
    "    \"\"\"\n",
    "    Computes\n",
    "    1. the standard point and interval\n",
    "    (Normal approximation to the Binomial distribution),\n",
    "    2. the Clopper-Pearson interval,\n",
    "    3. the Jeffrey’s interval,\n",
    "    4. the Agresti-Coull interval.\n",
    "\n",
    "    Parameters\n",
    "    ----------\n",
    "    arr : 1D NUMPY ARRAY\n",
    "    the dataset to analyzes.\n",
    "    level : FLOAT\n",
    "    the confidence level.\n",
    "    format_par : BOOL\n",
    "    controls output.\n",
    "    ci_method: STR\n",
    "    determines which method to pick.\n",
    "\n",
    "    Returns\n",
    "    -------\n",
    "    A point and interval estimate for the mean for:\n",
    "    1. the standard point and interval\n",
    "    (Normal approximation to the Binomial distribution),\n",
    "    2. the Clopper-Pearson interval,\n",
    "    3. the Jeffrey’s interval,\n",
    "    4. the Agresti-Coull interval.\n",
    "\n",
    "    \"\"\"\n",
    "    # Check if 1d Numpy array\n",
    "    arr_dim_checker(arr)\n",
    "\n",
    "    n = arr.shape[0]\n",
    "    x = sum([i for i in arr if i ==1])\n",
    "    p_hat = x / n\n",
    "    alpha = 1 - level/100.0\n",
    "    \n",
    "    if ci_method == \"a\":\n",
    "        # Adequate condition check\n",
    "        if n * p_hat <= 12 or n * (1 - p_hat) <= 12:\n",
    "            raise TypeError(\"Normal approximation to the Binomial distribution, not adequate.\")\n",
    "\n",
    "        score = st.norm.ppf(1 - alpha * 0.5)\n",
    "        tmp = np.sqrt(p_hat * (1 - p_hat) / n)\n",
    "        lwr = round(p_hat - score * tmp, 4)\n",
    "        upr = round(p_hat + score * tmp, 4)\n",
    "\n",
    "    elif ci_method == \"b\":\n",
    "        lwr = round(st.beta.ppf(alpha/2, x, n-x+1), 4)\n",
    "        upr = round(st.beta.ppf(1-alpha/2, x+1, n-x), 4)\n",
    "    \n",
    "    elif ci_method == \"c\":\n",
    "        # Beta distributions\n",
    "        tmp_lwr = round(st.beta.ppf(alpha/2, x+0.5, n-x+0.5), 4)\n",
    "        tmp_upr = round(st.beta.ppf(1-alpha/2, x+0.5, n-x+0.5), 4)\n",
    "\n",
    "        lwr = max(0, tmp_lwr)\n",
    "        upr = min(tmp_upr, 1)\n",
    "        \n",
    "    elif ci_method == \"d\":\n",
    "        score = st.norm.ppf(1 - alpha * 0.5)\n",
    "        n_tilda = n + score**2\n",
    "        p_tilda = (x + (score**2)/2) / n_tilda\n",
    "        \n",
    "        tmp = np.sqrt(p_tilda * (1 - p_tilda) / n_tilda)\n",
    "        lwr = round(p_tilda - score * tmp, 4)\n",
    "        upr = round(p_tilda + score * tmp, 4)\n",
    "        \n",
    "    else:\n",
    "        raise TypeError(\"wrong ci method!\")\n",
    "    \n",
    "    return output_helper(format_par, p_hat, level, lwr, upr)"
   ]
  },
  {
   "cell_type": "markdown",
   "id": "06b4afd8",
   "metadata": {},
   "source": [
    "ii. The Clopper-Pearson interval for a population proportion can be expressed using quantiles from Beta distributions. Specifically, for a sample of size n with x successes and α 1 minus the confidence level the interval is,\n",
    "\n",
    "$$(\\hat{\\theta}_L,\\hat{\\theta}_U)=(B(\\frac{α}{2},x,n−x+1),B(1−\\frac{α}{2},x+1,n−x))$$"
   ]
  },
  {
   "cell_type": "markdown",
   "id": "407a753a",
   "metadata": {},
   "source": [
    "iii. The Jeffrey’s interval is a Bayesian credible interval with good frequentist properties. It is similar to the Clopper-Pearson interval in that it utilizes Beta quantiles, but is based on a so-called Jeffrey’s prior of $B(p,0.5,0.5)$. Specifically, the Jeffrey’s interval is $(0∨B(α/2,x+0.5,n−x+0.5),B(1−α/2,x+0.5,n−x+0.5)∧1)$. (Use the sample proportion as the point estimate)."
   ]
  },
  {
   "cell_type": "markdown",
   "id": "2ab09bf5",
   "metadata": {},
   "source": [
    "iv. The Agresti-Coull interval arises from a notion “add 2 failures and 2 successes” as a means of regularization. More specifically, define $ñ =n+z^2$ and $p̃ =(x+z^2/2)/ñ$. The Agresti-Coull interval is Normal approximation interval using $p̃$ in place of $p̂$.\n",
    "\n",
    "&nbsp;"
   ]
  },
  {
   "cell_type": "markdown",
   "id": "ea5582d6",
   "metadata": {},
   "source": [
    "c. Create a 1d Numpy array with 42 ones and 48 zeros. Construct a nicely formatted table comparing 90, 95, and 99% confidence intervals using each of the methods above (including part a) on this data. Choose the number of decimals to display carefully to emphasize differences. For each confidence level, which method produces the interval with the smallest width?"
   ]
  },
  {
   "cell_type": "code",
   "execution_count": 13,
   "id": "2ad3a30e",
   "metadata": {},
   "outputs": [
    {
     "data": {
      "text/plain": [
       "(90,)"
      ]
     },
     "execution_count": 13,
     "metadata": {},
     "output_type": "execute_result"
    }
   ],
   "source": [
    "# Create a 1d Numpy array with 42 ones and 48 zeros\n",
    "arr_1d = np.append(np.ones(42), np.zeros(48))\n",
    "arr_1d.shape"
   ]
  },
  {
   "cell_type": "code",
   "execution_count": 14,
   "id": "83e19674",
   "metadata": {},
   "outputs": [
    {
     "name": "stdout",
     "output_type": "stream",
     "text": [
      "[[-0.3539, 0.3802, 0.3765, 0.3818, 0.3824], [-0.5111, 0.3636, 0.3607, 0.366, 0.3671], [-0.8184, 0.3312, 0.3306, 0.3357, 0.3382]]\n",
      "[[1.2873, 0.5532, 0.5586, 0.5531, 0.5529], [1.4445, 0.5697, 0.5749, 0.5694, 0.569], [1.7517, 0.6021, 0.6064, 0.601, 0.5997]]\n"
     ]
    }
   ],
   "source": [
    "# Table comparing 90, 95, and 99% CIs\n",
    "# using each of the methods above on this data\n",
    "\n",
    "level_list = [90, 95, 99]\n",
    "\n",
    "# for lv in level_list:\n",
    "#     print(pt_n_interval_est(arr=arr_1d, level=lv))\n",
    "#     print(b_est(arr=arr_1d, level=lv, ci_method=\"a\"))\n",
    "#     print(b_est(arr=arr_1d, level=lv, ci_method=\"b\"))\n",
    "#     print(b_est(arr=arr_1d, level=lv, ci_method=\"c\"))\n",
    "#     print(b_est(arr=arr_1d, level=lv, ci_method=\"d\"))\n",
    "#     print()\n",
    "\n",
    "lwr_list = list()\n",
    "upr_list = list()\n",
    "\n",
    "for lv in level_list:\n",
    "    lwr_a = pt_n_interval_est(arr=arr_1d, level=lv, format_par=None)[\"lwr\"]\n",
    "    lwr_b1 = b_est(arr=arr_1d, level=lv, ci_method=\"a\", format_par=None)[\"lwr\"]\n",
    "    lwr_b2 = b_est(arr=arr_1d, level=lv, ci_method=\"b\", format_par=None)[\"lwr\"]\n",
    "    lwr_b3 = b_est(arr=arr_1d, level=lv, ci_method=\"c\", format_par=None)[\"lwr\"]\n",
    "    lwr_b4 = b_est(arr=arr_1d, level=lv, ci_method=\"d\", format_par=None)[\"lwr\"]\n",
    "    lwr_list.append([lwr_a, lwr_b1, lwr_b2, lwr_b3, lwr_b4])\n",
    "    \n",
    "    upr_a = pt_n_interval_est(arr=arr_1d, level=lv, format_par=None)[\"upr\"]\n",
    "    upr_b1 = b_est(arr=arr_1d, level=lv, ci_method=\"a\", format_par=None)[\"upr\"]\n",
    "    upr_b2 = b_est(arr=arr_1d, level=lv, ci_method=\"b\", format_par=None)[\"upr\"]\n",
    "    upr_b3 = b_est(arr=arr_1d, level=lv, ci_method=\"c\", format_par=None)[\"upr\"]\n",
    "    upr_b4 = b_est(arr=arr_1d, level=lv, ci_method=\"d\", format_par=None)[\"upr\"]\n",
    "    upr_list.append([upr_a, upr_b1, upr_b2, upr_b3, upr_b4])\n",
    "\n",
    "# Sanity check\n",
    "print(lwr_list)\n",
    "print(upr_list)"
   ]
  },
  {
   "cell_type": "code",
   "execution_count": 15,
   "id": "8d0d5a30",
   "metadata": {},
   "outputs": [],
   "source": [
    "# df = pd.DataFrame(index=[\"CI: \"+str(lv) for lv in level_list])\n",
    "# df.T\n",
    "\n",
    "width_list = [(np.array(upr_list[0]) - np.array(lwr_list[0])).tolist(),\n",
    "             (np.array(upr_list[1]) - np.array(lwr_list[1])).tolist(),\n",
    "             (np.array(upr_list[2]) - np.array(lwr_list[2])).tolist()]\n",
    "# width_list"
   ]
  },
  {
   "cell_type": "code",
   "execution_count": 16,
   "id": "e5d0d725",
   "metadata": {},
   "outputs": [],
   "source": [
    "tmp_list = [lwr_list[0], upr_list[0], width_list[0],\n",
    "            lwr_list[1], upr_list[1], width_list[1],\n",
    "            lwr_list[2], upr_list[2], width_list[2]]\n",
    "\n",
    "tmp_df = pd.DataFrame(tmp_list,\n",
    "                     columns={'Normal dist', 'Normal approx',\n",
    "                              'C-P', 'Jeffrey', 'A-C'})\n",
    "new_df = tmp_df.T\n",
    "# new_df"
   ]
  },
  {
   "cell_type": "code",
   "execution_count": 17,
   "id": "81d9c866",
   "metadata": {},
   "outputs": [
    {
     "data": {
      "text/html": [
       "<div>\n",
       "<style scoped>\n",
       "    .dataframe tbody tr th:only-of-type {\n",
       "        vertical-align: middle;\n",
       "    }\n",
       "\n",
       "    .dataframe tbody tr th {\n",
       "        vertical-align: top;\n",
       "    }\n",
       "\n",
       "    .dataframe thead th {\n",
       "        text-align: right;\n",
       "    }\n",
       "</style>\n",
       "<table border=\"1\" class=\"dataframe\">\n",
       "  <thead>\n",
       "    <tr style=\"text-align: right;\">\n",
       "      <th></th>\n",
       "      <th>90%CI lwr</th>\n",
       "      <th>90%CI upr</th>\n",
       "      <th>90%CI width</th>\n",
       "      <th>95%CI lwr</th>\n",
       "      <th>95%CI upr</th>\n",
       "      <th>95%CI width</th>\n",
       "      <th>99%CI lwr</th>\n",
       "      <th>99%CI upr</th>\n",
       "      <th>99%CI width</th>\n",
       "    </tr>\n",
       "  </thead>\n",
       "  <tbody>\n",
       "    <tr>\n",
       "      <th>C-P</th>\n",
       "      <td>-0.3539</td>\n",
       "      <td>1.2873</td>\n",
       "      <td>1.6412</td>\n",
       "      <td>-0.5111</td>\n",
       "      <td>1.4445</td>\n",
       "      <td>1.9556</td>\n",
       "      <td>-0.8184</td>\n",
       "      <td>1.7517</td>\n",
       "      <td>2.5701</td>\n",
       "    </tr>\n",
       "    <tr>\n",
       "      <th>Jeffrey</th>\n",
       "      <td>0.3802</td>\n",
       "      <td>0.5532</td>\n",
       "      <td>0.1730</td>\n",
       "      <td>0.3636</td>\n",
       "      <td>0.5697</td>\n",
       "      <td>0.2061</td>\n",
       "      <td>0.3312</td>\n",
       "      <td>0.6021</td>\n",
       "      <td>0.2709</td>\n",
       "    </tr>\n",
       "    <tr>\n",
       "      <th>Normal approx</th>\n",
       "      <td>0.3765</td>\n",
       "      <td>0.5586</td>\n",
       "      <td>0.1821</td>\n",
       "      <td>0.3607</td>\n",
       "      <td>0.5749</td>\n",
       "      <td>0.2142</td>\n",
       "      <td>0.3306</td>\n",
       "      <td>0.6064</td>\n",
       "      <td>0.2758</td>\n",
       "    </tr>\n",
       "    <tr>\n",
       "      <th>Normal dist</th>\n",
       "      <td>0.3818</td>\n",
       "      <td>0.5531</td>\n",
       "      <td>0.1713</td>\n",
       "      <td>0.3660</td>\n",
       "      <td>0.5694</td>\n",
       "      <td>0.2034</td>\n",
       "      <td>0.3357</td>\n",
       "      <td>0.6010</td>\n",
       "      <td>0.2653</td>\n",
       "    </tr>\n",
       "    <tr>\n",
       "      <th>A-C</th>\n",
       "      <td>0.3824</td>\n",
       "      <td>0.5529</td>\n",
       "      <td>0.1705</td>\n",
       "      <td>0.3671</td>\n",
       "      <td>0.5690</td>\n",
       "      <td>0.2019</td>\n",
       "      <td>0.3382</td>\n",
       "      <td>0.5997</td>\n",
       "      <td>0.2615</td>\n",
       "    </tr>\n",
       "  </tbody>\n",
       "</table>\n",
       "</div>"
      ],
      "text/plain": [
       "               90%CI lwr  90%CI upr  90%CI width  95%CI lwr  95%CI upr  \\\n",
       "C-P              -0.3539     1.2873       1.6412    -0.5111     1.4445   \n",
       "Jeffrey           0.3802     0.5532       0.1730     0.3636     0.5697   \n",
       "Normal approx     0.3765     0.5586       0.1821     0.3607     0.5749   \n",
       "Normal dist       0.3818     0.5531       0.1713     0.3660     0.5694   \n",
       "A-C               0.3824     0.5529       0.1705     0.3671     0.5690   \n",
       "\n",
       "               95%CI width  99%CI lwr  99%CI upr  99%CI width  \n",
       "C-P                 1.9556    -0.8184     1.7517       2.5701  \n",
       "Jeffrey             0.2061     0.3312     0.6021       0.2709  \n",
       "Normal approx       0.2142     0.3306     0.6064       0.2758  \n",
       "Normal dist         0.2034     0.3357     0.6010       0.2653  \n",
       "A-C                 0.2019     0.3382     0.5997       0.2615  "
      ]
     },
     "execution_count": 17,
     "metadata": {},
     "output_type": "execute_result"
    }
   ],
   "source": [
    "new_df.rename(columns = {0:'90%CI lwr', 1:'90%CI upr', 2:'90%CI width',\n",
    "                         3:'95%CI lwr', 4:'95%CI upr', 5:'95%CI width',\n",
    "                         6:'99%CI lwr', 7:'99%CI upr', 8:'99%CI width'})"
   ]
  },
  {
   "cell_type": "code",
   "execution_count": 18,
   "id": "d26cf831",
   "metadata": {},
   "outputs": [],
   "source": [
    "# Q: For each confidence level, which method produces the interval with the smallest width?\n",
    "# A: Agresti-Coull method produces the interval with the smallest width"
   ]
  },
  {
   "cell_type": "code",
   "execution_count": null,
   "id": "0c095a64",
   "metadata": {},
   "outputs": [],
   "source": []
  }
 ],
 "metadata": {
  "kernelspec": {
   "display_name": "Python 3",
   "language": "python",
   "name": "python3"
  },
  "language_info": {
   "codemirror_mode": {
    "name": "ipython",
    "version": 3
   },
   "file_extension": ".py",
   "mimetype": "text/x-python",
   "name": "python",
   "nbconvert_exporter": "python",
   "pygments_lexer": "ipython3",
   "version": "3.8.8"
  }
 },
 "nbformat": 4,
 "nbformat_minor": 5
}
