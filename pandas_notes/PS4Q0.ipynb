{
 "cells": [
  {
   "cell_type": "markdown",
   "id": "92b931f2",
   "metadata": {},
   "source": [
    "## Working with Python APIs\n",
    "\n",
    "### Background knowledge: What is an application programming interface (API)\n",
    "\n",
    "- An API is a set of defined rules that\n",
    "explain how computers or applications communicate with one another.\n",
    "\n",
    "- APIs sit between an application and the web server, acting as an intermediary layer that processes data transfer between systems.\n",
    "    1. __A client application initiates an API call__ to retrieve information — also known as a request.\n",
    "    This request is processed from an application to the web server\n",
    "    via the API’s Uniform Resource Identifier (URI) \n",
    "    and includes a request verb, headers, and sometimes, a request body.\n",
    "    1. After __receiving a valid request__,\n",
    "    the API __makes a call__ to the external program or web server.\n",
    "    1. The server sends __a response__\n",
    "    to the API with the requested information.\n",
    "    1. __The API transfers the data__ \n",
    "    to the initial requesting application.\n",
    "\n",
    "Ref: https://www.ibm.com/cloud/learn/api\n",
    "\n",
    "### Import libraries\n",
    "1. __requests__ library helps us get the content \n",
    "from the API by using the ```get()``` method.\n",
    "The ```json()``` method converts the API response to JSON format for easy handling.\n",
    "1. __json__ library is needed so that we can work with the JSON content we get from the API.\n",
    "In this case, we get a dictionary for each Channel’s information such as name, id, views and other information.\n",
    "1. __pandas__ library helps to create a dataframe\n",
    "which we can export to a .CSV file in correct format with proper headings and indexing."
   ]
  },
  {
   "cell_type": "code",
   "execution_count": 1,
   "id": "4f9046cf",
   "metadata": {},
   "outputs": [],
   "source": [
    "# import libraries\n",
    "import numpy as np\n",
    "import pandas as pd\n",
    "import requests\n",
    "import json"
   ]
  },
  {
   "cell_type": "markdown",
   "id": "2b1d7fd2",
   "metadata": {},
   "source": [
    "- Here I created a json dict,\n",
    "if you want to get json from web url, you need to use an API key.\n",
    "    - If you don't use an API key, you may get\n",
    "    [this](https://stackoverflow.com/questions/54783076/you-must-use-an-api-key-to-authenticate-each-request-to-google-maps-platform-api) error message.\n",
    "    - You may use ```requests.get(url).json()```\n",
    "    to get the response from the API for the url (in json format).\n",
    "\n",
    "\n",
    "- Reference: https://stackoverflow.com/questions/46578128/pandas-read-jsonjson-url"
   ]
  },
  {
   "cell_type": "code",
   "execution_count": 2,
   "id": "83fc01be",
   "metadata": {},
   "outputs": [
    {
     "name": "stdout",
     "output_type": "stream",
     "text": [
      "         id               TimeStamp  Quantity\n",
      "0  12312312  2017-10-04T17:39:53.92  3.030463\n",
      "1   2342344  2017-10-04T17:39:53.92  3.030463\n"
     ]
    }
   ],
   "source": [
    "json_dict = {\n",
    "\"message\": \"hello world\",\n",
    "\"result\": [{\"id\":12312312, \"TimeStamp\":\"2017-10-04T17:39:53.92\",\"Quantity\":3.03046306,},\n",
    "           {\"id\": 2342344, \"TimeStamp\":\"2017-10-04T17:39:53.92\",\"Quantity\":3.03046306,}]\n",
    "}\n",
    "\n",
    "df = pd.json_normalize(json_dict['result'])\n",
    "\n",
    "# Sanity check\n",
    "print(df)"
   ]
  },
  {
   "cell_type": "code",
   "execution_count": 3,
   "id": "4f47fee2",
   "metadata": {},
   "outputs": [
    {
     "name": "stdout",
     "output_type": "stream",
     "text": [
      "                               id  Quantity\n",
      "TimeStamp                                  \n",
      "2017-10-04 17:39:53.920  12312312  3.030463\n",
      "2017-10-04 17:39:53.920   2342344  3.030463\n"
     ]
    }
   ],
   "source": [
    "# Process the timestamp and move it to front\n",
    "df['TimeStamp'] = pd.to_datetime(df['TimeStamp'])\n",
    "df = df.set_index('TimeStamp')\n",
    "\n",
    "# Sanity check\n",
    "print(df)"
   ]
  },
  {
   "cell_type": "markdown",
   "id": "2a63380e",
   "metadata": {},
   "source": [
    "### Alternative approach\n",
    "\n",
    "- Use ```pd.DataFrame(df['result'].values.tolist())```"
   ]
  },
  {
   "cell_type": "code",
   "execution_count": 4,
   "id": "2eaf2a79",
   "metadata": {},
   "outputs": [
    {
     "name": "stdout",
     "output_type": "stream",
     "text": [
      "                                Id   Quantity     Price     Total FillType  \\\n",
      "TimeStamp                                                                    \n",
      "2021-11-12 15:44:58.410  293348240  28.393966  0.000867  0.024615     FILL   \n",
      "2021-11-12 15:37:17.340  293346064   0.927593  0.000865  0.000803     FILL   \n",
      "2021-11-12 15:34:03.130  293344934  18.882276  0.000864  0.016307     FILL   \n",
      "2021-11-12 15:32:17.930  293344458   0.086663  0.000863  0.000075     FILL   \n",
      "2021-11-12 15:32:17.930  293344457   2.275322  0.000863  0.001964     FILL   \n",
      "\n",
      "                        OrderType                                  Uuid  \n",
      "TimeStamp                                                                \n",
      "2021-11-12 15:44:58.410       BUY  e0dec0e1-acf0-4bba-88eb-09419a9672bf  \n",
      "2021-11-12 15:37:17.340       BUY  43cda394-be9d-4413-93e9-7eca93f956cd  \n",
      "2021-11-12 15:34:03.130      SELL  a1764034-71bb-42ed-a582-be45e65908da  \n",
      "2021-11-12 15:32:17.930      SELL  d2df263d-5180-41cc-80f1-278a337feaf1  \n",
      "2021-11-12 15:32:17.930      SELL  b1f77768-ea6f-4bd3-8142-f1cec3188962  \n"
     ]
    }
   ],
   "source": [
    "df = pd.read_json('https://bittrex.com/api/v1.1/public/getmarkethistory?market=BTC-ETC')\n",
    "df = pd.DataFrame(df['result'].values.tolist())\n",
    "\n",
    "# Process the timestamp and move it to front\n",
    "df['TimeStamp'] = pd.to_datetime(df['TimeStamp'])\n",
    "df = df.set_index('TimeStamp')\n",
    "\n",
    "# Sanity check\n",
    "print(df.head())"
   ]
  }
 ],
 "metadata": {
  "kernelspec": {
   "display_name": "Python 3",
   "language": "python",
   "name": "python3"
  },
  "language_info": {
   "codemirror_mode": {
    "name": "ipython",
    "version": 3
   },
   "file_extension": ".py",
   "mimetype": "text/x-python",
   "name": "python",
   "nbconvert_exporter": "python",
   "pygments_lexer": "ipython3",
   "version": "3.8.8"
  }
 },
 "nbformat": 4,
 "nbformat_minor": 5
}
